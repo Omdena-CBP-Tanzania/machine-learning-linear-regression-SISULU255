{
  "nbformat": 4,
  "nbformat_minor": 0,
  "metadata": {
    "colab": {
      "provenance": []
    },
    "kernelspec": {
      "name": "python3",
      "display_name": "Python 3"
    },
    "language_info": {
      "name": "python"
    }
  },
  "cells": [
    {
      "cell_type": "code",
      "execution_count": 1,
      "metadata": {
        "id": "W8mTomNbWxVB"
      },
      "outputs": [],
      "source": [
        "import pandas as pd\n",
        "import numpy as np\n",
        "from sklearn.model_selection import train_test_split\n",
        "from sklearn.preprocessing import StandardScaler\n",
        "\n",
        "df = pd.read_csv('/content/BostonHousing.csv')"
      ]
    },
    {
      "cell_type": "code",
      "source": [
        "# Outlier handling\n",
        "numeric_cols = df.select_dtypes(include=['float64', 'int64']).columns\n",
        "for col in numeric_cols:\n",
        "    q1 = df[col].quantile(0.25)\n",
        "    q3 = df[col].quantile(0.75)\n",
        "    iqr = q3 - q1\n",
        "    lower_bound = q1 - 1.5 * iqr\n",
        "    upper_bound = q3 + 1.5 * iqr\n",
        "    df[col] = df[col].clip(lower_bound, upper_bound)"
      ],
      "metadata": {
        "id": "4tclMoCgYU93"
      },
      "execution_count": 2,
      "outputs": []
    },
    {
      "cell_type": "code",
      "source": [
        "# Feature-target split\n",
        "X = df.drop('medv', axis=1)\n",
        "y = df['medv']"
      ],
      "metadata": {
        "id": "SxTCaPRCYU7S"
      },
      "execution_count": 3,
      "outputs": []
    },
    {
      "cell_type": "code",
      "source": [
        "# Train-test split\n",
        "X_train, X_test, y_train, y_test = train_test_split(\n",
        "    X, y, test_size=0.2, random_state=42)"
      ],
      "metadata": {
        "id": "6Fg3JG0CYU4R"
      },
      "execution_count": 4,
      "outputs": []
    },
    {
      "cell_type": "code",
      "source": [
        "# Feature scaling\n",
        "scaler = StandardScaler()\n",
        "X_train_scaled = scaler.fit_transform(X_train)\n",
        "X_test_scaled = scaler.transform(X_test)"
      ],
      "metadata": {
        "id": "ON0hfacyYfv4"
      },
      "execution_count": 6,
      "outputs": []
    },
    {
      "cell_type": "code",
      "source": [
        "import joblib\n",
        "joblib.dump(scaler, 'scaler.pkl')\n",
        "pd.DataFrame(X_train_scaled, columns=X.columns).to_csv('X_train.csv', index=False)\n",
        "pd.DataFrame(X_test_scaled, columns=X.columns).to_csv('X_test.csv', index=False)\n",
        "y_train.to_csv('y_train.csv', index=False)\n",
        "y_test.to_csv('y_test.csv', index=False)"
      ],
      "metadata": {
        "id": "eG2p9QPjYqW9"
      },
      "execution_count": 7,
      "outputs": []
    },
    {
      "cell_type": "code",
      "source": [
        "print(\"Preprocessing completed!\")\n",
        "print(\"Saved files: X_train.csv, X_test.csv, y_train.csv, y_test.csv, scaler.pkl\")"
      ],
      "metadata": {
        "colab": {
          "base_uri": "https://localhost:8080/"
        },
        "id": "r5_5x6vbY_XQ",
        "outputId": "6404d2c5-08ba-45fe-a4aa-d6d73750bb76"
      },
      "execution_count": 8,
      "outputs": [
        {
          "output_type": "stream",
          "name": "stdout",
          "text": [
            "Preprocessing completed!\n",
            "Saved files: X_train.csv, X_test.csv, y_train.csv, y_test.csv, scaler.pkl\n"
          ]
        }
      ]
    }
  ]
}